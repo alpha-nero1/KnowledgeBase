{
 "cells": [
  {
   "cell_type": "code",
   "execution_count": null,
   "id": "1f50cac8",
   "metadata": {},
   "outputs": [],
   "source": [
    "from dotenv import load_dotenv"
   ]
  },
  {
   "cell_type": "code",
   "execution_count": null,
   "id": "6fde64cd",
   "metadata": {},
   "outputs": [],
   "source": [
    "load_dotenv(override=True)"
   ]
  },
  {
   "cell_type": "code",
   "execution_count": null,
   "id": "8ff1a017",
   "metadata": {},
   "outputs": [],
   "source": [
    "import os\n",
    "\n",
    "open_ai_api_key = os.getenv('OPENAI_API_KEY')\n",
    "\n",
    "if open_ai_api_key:\n",
    "    print('EXISTS!')"
   ]
  },
  {
   "cell_type": "code",
   "execution_count": null,
   "id": "df8297a4",
   "metadata": {},
   "outputs": [],
   "source": [
    "from openai import OpenAI"
   ]
  },
  {
   "cell_type": "code",
   "execution_count": null,
   "id": "47f3a031",
   "metadata": {},
   "outputs": [],
   "source": [
    "openai_client = OpenAI()"
   ]
  },
  {
   "cell_type": "code",
   "execution_count": null,
   "id": "5f4bf209",
   "metadata": {},
   "outputs": [],
   "source": [
    "messages = [\n",
    "    {\n",
    "        \"role\": \"user\",\n",
    "        \"content\": \"What is 2+2\"\n",
    "    }\n",
    "]"
   ]
  },
  {
   "cell_type": "code",
   "execution_count": null,
   "id": "04ecedf9",
   "metadata": {},
   "outputs": [],
   "source": [
    "print(messages)"
   ]
  },
  {
   "cell_type": "code",
   "execution_count": null,
   "id": "10d37728",
   "metadata": {},
   "outputs": [],
   "source": [
    "# Make call to open ai!\n",
    "response = openai_client.chat.completions.create(model='gpt-4.1-mini', messages=messages)\n",
    "print('RES!')\n",
    "print(response.choices[0].message.content)"
   ]
  },
  {
   "cell_type": "code",
   "execution_count": null,
   "id": "3af0eae4",
   "metadata": {},
   "outputs": [],
   "source": [
    "question = \"Please propose a hard, challenging to assess someone's IQ. Respond only with the question\"\n",
    "\n",
    "def msg(prompt): \n",
    "    return { \"role\": \"user\", \"content\": prompt }\n",
    "\n",
    "response = openai_client.chat.completions.create(model='gpt-4.1-mini', messages=[msg(question)])\n",
    "\n",
    "res_question = response.choices[0].message.content\n",
    "print(res_question)"
   ]
  },
  {
   "cell_type": "code",
   "execution_count": null,
   "id": "37729dff",
   "metadata": {},
   "outputs": [],
   "source": [
    "# Now get the AI to solve it! lol\n",
    "response = openai_client.chat.completions.create(model='gpt-4.1-mini', messages=[msg(res_question)])\n",
    "\n",
    "answer = lambda res: res.choices[0].message.content\n",
    "print(answer(response))"
   ]
  },
  {
   "cell_type": "code",
   "execution_count": null,
   "id": "f516e8c3",
   "metadata": {},
   "outputs": [],
   "source": [
    "from IPython.display import Markdown, display\n",
    "\n",
    "display(Markdown(answer(response)))"
   ]
  },
  {
   "cell_type": "code",
   "execution_count": null,
   "id": "b7f7752f",
   "metadata": {},
   "outputs": [],
   "source": [
    "def ask(prompt):\n",
    "    return openai_client.chat.completions.create(model='gpt-4.1-mini', messages=[msg(prompt)])\n",
    "\n",
    "ans_one = answer(ask('Can you pick a business area that might be worth exploring for an Agentic AI opportunity'))\n",
    "print(ans_one)"
   ]
  },
  {
   "cell_type": "code",
   "execution_count": null,
   "id": "64cb46e0",
   "metadata": {},
   "outputs": [],
   "source": [
    "msg = lambda txt: { \"role\": \"user\", \"content\": txt }\n",
    "ask = lambda prompt: openai_client.chat.completions.create(model='gpt-4.1-mini', messages=[msg(prompt)])\n",
    "answer = lambda res: res.choices[0].message.content\n"
   ]
  },
  {
   "cell_type": "code",
   "execution_count": null,
   "id": "82db7922",
   "metadata": {},
   "outputs": [],
   "source": []
  }
 ],
 "metadata": {
  "kernelspec": {
   "display_name": ".venv",
   "language": "python",
   "name": "python3"
  },
  "language_info": {
   "codemirror_mode": {
    "name": "ipython",
    "version": 3
   },
   "file_extension": ".py",
   "mimetype": "text/x-python",
   "name": "python",
   "nbconvert_exporter": "python",
   "pygments_lexer": "ipython3",
   "version": "3.12.12"
  }
 },
 "nbformat": 4,
 "nbformat_minor": 5
}
