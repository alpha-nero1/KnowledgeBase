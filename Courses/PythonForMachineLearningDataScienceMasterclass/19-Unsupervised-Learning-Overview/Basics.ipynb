{
 "cells": [
  {
   "cell_type": "markdown",
   "id": "7039fd3c",
   "metadata": {},
   "source": [
    "# Unsupervised learning\n",
    "- Supervised: using historical labeled data to predict on a label for new data.\n",
    "- Unsupervised data: Using unlabeled data, discover patterns, clusters or significant components\n",
    "\n",
    "## We split unsupervised learing as such:\n",
    "- clustering: using features we group together data rows into destinct clusters\n",
    "- dimension reduction: using features, discover how to combine and reduce into fewer components"
   ]
  },
  {
   "cell_type": "code",
   "execution_count": null,
   "id": "7374e2ea",
   "metadata": {},
   "outputs": [],
   "source": []
  }
 ],
 "metadata": {
  "kernelspec": {
   "display_name": "Python 3",
   "language": "python",
   "name": "python3"
  },
  "language_info": {
   "codemirror_mode": {
    "name": "ipython",
    "version": 3
   },
   "file_extension": ".py",
   "mimetype": "text/x-python",
   "name": "python",
   "nbconvert_exporter": "python",
   "pygments_lexer": "ipython3",
   "version": "3.8.8"
  }
 },
 "nbformat": 4,
 "nbformat_minor": 5
}
