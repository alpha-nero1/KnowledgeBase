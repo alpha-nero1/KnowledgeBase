{
 "cells": [
  {
   "cell_type": "markdown",
   "id": "98fbb84f",
   "metadata": {},
   "source": [
    "Also known as overfitting vs underfiiting\n",
    "\n",
    "- very important for supervised ML\n",
    "- in general increasing model complexity (using higher order of numbers) in search for better performance leads to a bias-variance trad-off\n",
    "- this means we want to have a model that can generalise well to new unseen data but also account for variance and patterns in the known data\n",
    "\n",
    "Overfitting (could be hard to catch)\n",
    "- The model fits too much to the noise from the data,\n",
    "- results in low error on training sets but high error on test sets\n",
    "- This is why it is CRUCIAL to test trained data so the algorithm is pitted against data it has not seen before.\n",
    "\n",
    "Underfitting\n",
    "- Too much bias, does not capture the underlying trend of the data well enough.\n",
    "- Usually the result of an excessively simple model. Is generalising too much.\n",
    "\n",
    "We can plot out level of error vs model complexity\n",
    "- A good model would reduce in error as complexity increases.\n",
    "- In case of polynomial regression the complexity would = the polynomial degree.\n",
    "\n",
    "- A BAD model would have an increase in error as we increase model complexity."
   ]
  },
  {
   "cell_type": "markdown",
   "id": "b455cd84",
   "metadata": {},
   "source": [
    "# Choosing the Correct Degree of Polynomial (Complexity)"
   ]
  },
  {
   "cell_type": "code",
   "execution_count": null,
   "id": "220392a0",
   "metadata": {},
   "outputs": [],
   "source": []
  }
 ],
 "metadata": {
  "kernelspec": {
   "display_name": "Python 3",
   "language": "python",
   "name": "python3"
  },
  "language_info": {
   "codemirror_mode": {
    "name": "ipython",
    "version": 3
   },
   "file_extension": ".py",
   "mimetype": "text/x-python",
   "name": "python",
   "nbconvert_exporter": "python",
   "pygments_lexer": "ipython3",
   "version": "3.8.8"
  }
 },
 "nbformat": 4,
 "nbformat_minor": 5
}
