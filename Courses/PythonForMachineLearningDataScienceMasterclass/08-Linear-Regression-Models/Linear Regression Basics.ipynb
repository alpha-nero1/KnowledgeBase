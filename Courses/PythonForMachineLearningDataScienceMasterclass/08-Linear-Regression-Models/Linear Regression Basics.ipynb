{
 "cells": [
  {
   "cell_type": "markdown",
   "id": "eb776cd8",
   "metadata": {},
   "source": [
    "# Linear Regression\n",
    "\n",
    "## Algorithm History\n",
    "\n",
    "- Based on \"least squares\" grew out of a need for improving navigation methods based on astronomy during the age of exploration in the 1700s\n",
    "- Put simply a linear relationship implies some constant straight line relationship. (e.g. x = y)\n",
    "- This implies for a new x value i could predict the y value.\n",
    "\n",
    "BUT\n",
    "\n",
    "- Real data will not draw a straight line (think of a scatterplot with a million points)\n",
    "- We can instead draw a line that would be the best fit for all those data points.\n",
    "- Fundamentally we want to minimize the overall distance from the points to the line. (distance from lines to points is called \"Residual Error\" and it must be minimised as much as possible.\n",
    "\n",
    "### Ordinary Least Squares (OLS)\n",
    "Works by minimizing the sum of the squares of the differences between the observed dependent variable in the given dataset and those predicted by the linear function.\n",
    "\n",
    "- Essentially we SQUARE the distance to the line drawn for all points and sum them together to get the least squared error."
   ]
  },
  {
   "cell_type": "markdown",
   "id": "8a1d6268",
   "metadata": {},
   "source": [
    "# Understanding Ordinary Least Squares\n",
    "\n",
    "Linear regression OLS theory; the equation of a simple straight line is always\n",
    "** y = mx + b **\n",
    "\n",
    "Where m is the slope and b is the intercept with the y-axis\n",
    "\n",
    "- There is only room for one possible feature X.\n",
    "- OLS will allow us to directly solve for slope M and intercept B given a set of real data points for X and Y.\n",
    "- The issue is that if we have multiple features we need to use GRADIENT DESCENT to scale it.\n",
    "\n",
    "\n",
    "## Independent And Dependent Variable (X and Y)\n",
    "In the case of predicting how many hours of operating a factory result in production volume,\n",
    "- x, the independent variable is how many hours\n",
    "- y, the dependent variable is production volume (what we want to predict)"
   ]
  },
  {
   "cell_type": "markdown",
   "id": "390e4b46",
   "metadata": {},
   "source": [
    "# Cost Functions\n",
    "\n",
    "If we try and add multiple features OLS will not be scalable.\n",
    "\n",
    "## Gradient Descent\n",
    "\n",
    "Here we an leverage computational power to help resolve problems for us.\n",
    "Taking the cost function derivative and then solving for zero to get the set of Beta coefficients will be too difficult to solve directly through an analytical solution (math mumbo jumbo)\n",
    "\n",
    "- We can describe the cost function through vectorised matrix notation and use **gradient descent** to have a computer figure out the beta coefficient values to minimise the COST/LOSS function."
   ]
  },
  {
   "cell_type": "code",
   "execution_count": null,
   "id": "5cfb38e3",
   "metadata": {},
   "outputs": [],
   "source": []
  }
 ],
 "metadata": {
  "kernelspec": {
   "display_name": "Python 3",
   "language": "python",
   "name": "python3"
  },
  "language_info": {
   "codemirror_mode": {
    "name": "ipython",
    "version": 3
   },
   "file_extension": ".py",
   "mimetype": "text/x-python",
   "name": "python",
   "nbconvert_exporter": "python",
   "pygments_lexer": "ipython3",
   "version": "3.8.8"
  }
 },
 "nbformat": 4,
 "nbformat_minor": 5
}
