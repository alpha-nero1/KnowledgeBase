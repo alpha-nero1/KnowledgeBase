{
 "cells": [
  {
   "cell_type": "markdown",
   "id": "8463e68a",
   "metadata": {},
   "source": [
    "# Polynomial Regression\n",
    "\n",
    "polynomial (y = x**2 - 2x + 3)\n",
    "\n",
    "- If we have a non-linear feature relationship (to label), e.g. when mapped out it makes a curve,\n",
    "  if we were do do a regression line on this and get beta coefficients they would not be grat at predicitons.\n",
    "- If we go to higher orders (power of 2 or 3 e.t.c) we can find more accurate beta coefficients.\n",
    "- In certain situations it may be more reasonable to solve for a polynomial.\n",
    "- interaction terms: what happend if two fatures are only significant when in sync with eachother.\n",
    "    - perhaps newspaper advertising spend by ITSELF is not effective but really adds value if mixed with TV ads.\n",
    "    \n",
    "    \n",
    "## How can we check for a synergy?\n",
    "\n",
    "- Create a new feature that multiplies the two features together to create the interaction term\n",
    "- sklearn does this all via an easy preprocessing library."
   ]
  },
  {
   "cell_type": "code",
   "execution_count": 2,
   "id": "dac886ca",
   "metadata": {},
   "outputs": [],
   "source": [
    "import numpy as np\n",
    "import pandas as pd\n",
    "import sklearn as sk\n",
    "import matplotlib.pyplot as plt\n",
    "import seaborn as sns"
   ]
  },
  {
   "cell_type": "code",
   "execution_count": 3,
   "id": "cc12c137",
   "metadata": {},
   "outputs": [
    {
     "data": {
      "text/html": [
       "<div>\n",
       "<style scoped>\n",
       "    .dataframe tbody tr th:only-of-type {\n",
       "        vertical-align: middle;\n",
       "    }\n",
       "\n",
       "    .dataframe tbody tr th {\n",
       "        vertical-align: top;\n",
       "    }\n",
       "\n",
       "    .dataframe thead th {\n",
       "        text-align: right;\n",
       "    }\n",
       "</style>\n",
       "<table border=\"1\" class=\"dataframe\">\n",
       "  <thead>\n",
       "    <tr style=\"text-align: right;\">\n",
       "      <th></th>\n",
       "      <th>TV</th>\n",
       "      <th>radio</th>\n",
       "      <th>newspaper</th>\n",
       "      <th>sales</th>\n",
       "    </tr>\n",
       "  </thead>\n",
       "  <tbody>\n",
       "    <tr>\n",
       "      <th>0</th>\n",
       "      <td>230.1</td>\n",
       "      <td>37.8</td>\n",
       "      <td>69.2</td>\n",
       "      <td>22.1</td>\n",
       "    </tr>\n",
       "    <tr>\n",
       "      <th>1</th>\n",
       "      <td>44.5</td>\n",
       "      <td>39.3</td>\n",
       "      <td>45.1</td>\n",
       "      <td>10.4</td>\n",
       "    </tr>\n",
       "    <tr>\n",
       "      <th>2</th>\n",
       "      <td>17.2</td>\n",
       "      <td>45.9</td>\n",
       "      <td>69.3</td>\n",
       "      <td>9.3</td>\n",
       "    </tr>\n",
       "    <tr>\n",
       "      <th>3</th>\n",
       "      <td>151.5</td>\n",
       "      <td>41.3</td>\n",
       "      <td>58.5</td>\n",
       "      <td>18.5</td>\n",
       "    </tr>\n",
       "    <tr>\n",
       "      <th>4</th>\n",
       "      <td>180.8</td>\n",
       "      <td>10.8</td>\n",
       "      <td>58.4</td>\n",
       "      <td>12.9</td>\n",
       "    </tr>\n",
       "  </tbody>\n",
       "</table>\n",
       "</div>"
      ],
      "text/plain": [
       "      TV  radio  newspaper  sales\n",
       "0  230.1   37.8       69.2   22.1\n",
       "1   44.5   39.3       45.1   10.4\n",
       "2   17.2   45.9       69.3    9.3\n",
       "3  151.5   41.3       58.5   18.5\n",
       "4  180.8   10.8       58.4   12.9"
      ]
     },
     "execution_count": 3,
     "metadata": {},
     "output_type": "execute_result"
    }
   ],
   "source": [
    "df = pd.read_csv('Advertising.csv')\n",
    "df.head()"
   ]
  },
  {
   "cell_type": "code",
   "execution_count": 4,
   "id": "95d71829",
   "metadata": {},
   "outputs": [],
   "source": [
    "# Sep X features and y label.\n",
    "X = df.drop('sales', axis=1)"
   ]
  },
  {
   "cell_type": "code",
   "execution_count": 5,
   "id": "86c93c05",
   "metadata": {},
   "outputs": [],
   "source": [
    "y = df['sales']"
   ]
  },
  {
   "cell_type": "code",
   "execution_count": 6,
   "id": "0c5af64e",
   "metadata": {},
   "outputs": [],
   "source": [
    "# Pre processing lib. (PolynomialFeatures)\n",
    "from sklearn.preprocessing import PolynomialFeatures"
   ]
  },
  {
   "cell_type": "code",
   "execution_count": 7,
   "id": "3265605b",
   "metadata": {},
   "outputs": [],
   "source": [
    "polynomial_converter = PolynomialFeatures(degree=2, include_bias=False)"
   ]
  },
  {
   "cell_type": "code",
   "execution_count": 8,
   "id": "7efb6b91",
   "metadata": {},
   "outputs": [
    {
     "data": {
      "text/plain": [
       "PolynomialFeatures(include_bias=False)"
      ]
     },
     "execution_count": 8,
     "metadata": {},
     "output_type": "execute_result"
    }
   ],
   "source": [
    "polynomial_converter.fit(X) # Just a feature converter"
   ]
  },
  {
   "cell_type": "code",
   "execution_count": 10,
   "id": "74c39779",
   "metadata": {},
   "outputs": [],
   "source": [
    "# Actualy transform it\n",
    "polyfeatures = polynomial_converter.transform(X)"
   ]
  },
  {
   "cell_type": "code",
   "execution_count": 11,
   "id": "a8393def",
   "metadata": {},
   "outputs": [
    {
     "data": {
      "text/plain": [
       "(200, 9)"
      ]
     },
     "execution_count": 11,
     "metadata": {},
     "output_type": "execute_result"
    }
   ],
   "source": [
    "polyfeatures.shape"
   ]
  },
  {
   "cell_type": "code",
   "execution_count": 13,
   "id": "701d9ae0",
   "metadata": {},
   "outputs": [
    {
     "data": {
      "text/plain": [
       "array([2.301000e+02, 3.780000e+01, 6.920000e+01, 5.294601e+04,\n",
       "       8.697780e+03, 1.592292e+04, 1.428840e+03, 2.615760e+03,\n",
       "       4.788640e+03])"
      ]
     },
     "execution_count": 13,
     "metadata": {},
     "output_type": "execute_result"
    }
   ],
   "source": [
    "polyfeatures[0] # TV, radio, newspaper, TV * radio, TV * NP, radio * NP, TV**2, radio**2, NP**2"
   ]
  },
  {
   "cell_type": "code",
   "execution_count": 14,
   "id": "55551331",
   "metadata": {},
   "outputs": [],
   "source": [
    "# Could also do fit_tranform(X)"
   ]
  },
  {
   "cell_type": "markdown",
   "id": "b54d2dd2",
   "metadata": {},
   "source": [
    "## Now train test split using the transformed data."
   ]
  },
  {
   "cell_type": "code",
   "execution_count": 16,
   "id": "85341fa5",
   "metadata": {},
   "outputs": [],
   "source": [
    "from sklearn.model_selection import train_test_split"
   ]
  },
  {
   "cell_type": "code",
   "execution_count": 17,
   "id": "6e4a4b53",
   "metadata": {},
   "outputs": [],
   "source": [
    "# Run split on poly features!\n",
    "X_train, X_test, y_train, y_test = train_test_split(\n",
    "    polyfeatures,\n",
    "    y,\n",
    "    # Same params as other tests!\n",
    "    test_size=0.3,\n",
    "    random_state=42\n",
    ")"
   ]
  },
  {
   "cell_type": "code",
   "execution_count": 18,
   "id": "637dd480",
   "metadata": {},
   "outputs": [],
   "source": [
    "from sklearn.linear_model import LinearRegression"
   ]
  },
  {
   "cell_type": "code",
   "execution_count": 19,
   "id": "dcae9250",
   "metadata": {},
   "outputs": [],
   "source": [
    "model = LinearRegression()"
   ]
  },
  {
   "cell_type": "code",
   "execution_count": 20,
   "id": "0e383b8d",
   "metadata": {},
   "outputs": [
    {
     "data": {
      "text/plain": [
       "LinearRegression()"
      ]
     },
     "execution_count": 20,
     "metadata": {},
     "output_type": "execute_result"
    }
   ],
   "source": [
    "model.fit(X_train, y_train) # Training regression model on 9 features not 3"
   ]
  },
  {
   "cell_type": "code",
   "execution_count": 21,
   "id": "a36b6c4c",
   "metadata": {},
   "outputs": [],
   "source": [
    "test_preds = model.predict(X_test)"
   ]
  },
  {
   "cell_type": "code",
   "execution_count": 22,
   "id": "1c0cd00f",
   "metadata": {},
   "outputs": [
    {
     "data": {
      "text/plain": [
       "array([17.22263805, 22.76431942, 20.34240311,  7.63823081, 24.43070212,\n",
       "       12.62670906, 22.77581025,  8.17257308, 12.1434595 , 15.59295774,\n",
       "        7.70321153,  8.13970713, 11.94050296,  6.00239435, 10.52156294,\n",
       "       12.29998882,  6.73498649, 16.59405075, 10.56966577, 19.02896977,\n",
       "       20.15426466, 13.93688799,  9.49270709, 22.09007022,  8.81726594,\n",
       "        7.63831359, 22.36845761, 12.63105172, 10.12142254,  6.02913868,\n",
       "       11.66988463, 10.06960308, 23.4843312 ,  9.85934368, 15.33869793,\n",
       "       21.07332794, 10.9676273 , 20.14554654, 11.74470764,  6.4231513 ,\n",
       "       10.71450186, 12.83429003,  9.18959984,  8.91317752, 11.87160951,\n",
       "        6.97626924,  9.95713385, 14.69620775, 10.1058211 , 11.2550714 ,\n",
       "       14.04197399, 12.14298425,  8.96411937,  7.54429236,  8.39739662,\n",
       "       10.86854626,  9.89471268, 25.23373739,  6.79877024, 11.96203194])"
      ]
     },
     "execution_count": 22,
     "metadata": {},
     "output_type": "execute_result"
    }
   ],
   "source": [
    "test_preds"
   ]
  },
  {
   "cell_type": "code",
   "execution_count": 24,
   "id": "577dbf2e",
   "metadata": {},
   "outputs": [
    {
     "data": {
      "text/plain": [
       "array([ 0.05478172,  0.01311214,  0.01086391, -0.00011074,  0.00108048,\n",
       "       -0.00010764,  0.00030191,  0.00017541,  0.00010075])"
      ]
     },
     "execution_count": 24,
     "metadata": {},
     "output_type": "execute_result"
    }
   ],
   "source": [
    "model.coef_"
   ]
  },
  {
   "cell_type": "code",
   "execution_count": 25,
   "id": "bdf7b009",
   "metadata": {},
   "outputs": [],
   "source": [
    "from sklearn.metrics import mean_absolute_error, mean_squared_error"
   ]
  },
  {
   "cell_type": "code",
   "execution_count": 26,
   "id": "d4e95b14",
   "metadata": {},
   "outputs": [],
   "source": [
    "MAE = mean_absolute_error(y_test, test_preds) # Check the predicitons against the y test set."
   ]
  },
  {
   "cell_type": "code",
   "execution_count": 27,
   "id": "0e0a631e",
   "metadata": {},
   "outputs": [],
   "source": [
    "MSE = mean_squared_error(y_test, test_preds)"
   ]
  },
  {
   "cell_type": "code",
   "execution_count": 28,
   "id": "36917f77",
   "metadata": {},
   "outputs": [],
   "source": [
    "RMSE = np.sqrt(MSE)"
   ]
  },
  {
   "cell_type": "code",
   "execution_count": 29,
   "id": "60d29b92",
   "metadata": {},
   "outputs": [
    {
     "data": {
      "text/plain": [
       "0.5905974833807945"
      ]
     },
     "execution_count": 29,
     "metadata": {},
     "output_type": "execute_result"
    }
   ],
   "source": [
    "MAE"
   ]
  },
  {
   "cell_type": "code",
   "execution_count": 30,
   "id": "c2769d1b",
   "metadata": {},
   "outputs": [
    {
     "data": {
      "text/plain": [
       "0.523194494905531"
      ]
     },
     "execution_count": 30,
     "metadata": {},
     "output_type": "execute_result"
    }
   ],
   "source": [
    "MSE"
   ]
  },
  {
   "cell_type": "code",
   "execution_count": 31,
   "id": "e81ea07d",
   "metadata": {},
   "outputs": [
    {
     "data": {
      "text/plain": [
       "0.7233218473857478"
      ]
     },
     "execution_count": 31,
     "metadata": {},
     "output_type": "execute_result"
    }
   ],
   "source": [
    "RMSE # Performing almost twice as well as the normal LinearRegression model."
   ]
  },
  {
   "cell_type": "code",
   "execution_count": 32,
   "id": "30577140",
   "metadata": {},
   "outputs": [
    {
     "data": {
      "text/plain": [
       "array([ 0.05478172,  0.01311214,  0.01086391, -0.00011074,  0.00108048,\n",
       "       -0.00010764,  0.00030191,  0.00017541,  0.00010075])"
      ]
     },
     "execution_count": 32,
     "metadata": {},
     "output_type": "execute_result"
    }
   ],
   "source": [
    "model.coef_"
   ]
  },
  {
   "cell_type": "code",
   "execution_count": 33,
   "id": "36afa765",
   "metadata": {},
   "outputs": [
    {
     "data": {
      "text/plain": [
       "array([2.301000e+02, 3.780000e+01, 6.920000e+01, 5.294601e+04,\n",
       "       8.697780e+03, 1.592292e+04, 1.428840e+03, 2.615760e+03,\n",
       "       4.788640e+03])"
      ]
     },
     "execution_count": 33,
     "metadata": {},
     "output_type": "execute_result"
    }
   ],
   "source": [
    "polyfeatures[0]"
   ]
  },
  {
   "cell_type": "code",
   "execution_count": 34,
   "id": "0948bee8",
   "metadata": {},
   "outputs": [
    {
     "data": {
      "text/plain": [
       "TV           230.1\n",
       "radio         37.8\n",
       "newspaper     69.2\n",
       "Name: 0, dtype: float64"
      ]
     },
     "execution_count": 34,
     "metadata": {},
     "output_type": "execute_result"
    }
   ],
   "source": [
    "X.iloc[0]"
   ]
  },
  {
   "cell_type": "code",
   "execution_count": 35,
   "id": "4bb1f865",
   "metadata": {},
   "outputs": [],
   "source": [
    "# Extremely small beta coefficients mean no correlation/signal\n",
    "# Strong betas for interaction terms."
   ]
  },
  {
   "cell_type": "code",
   "execution_count": 36,
   "id": "e6143059",
   "metadata": {},
   "outputs": [],
   "source": [
    "# Chosing higher polynomial degree\n",
    "# We can check by writing a loop!"
   ]
  },
  {
   "cell_type": "code",
   "execution_count": 37,
   "id": "1e7e4dcb",
   "metadata": {},
   "outputs": [],
   "source": [
    "# create different order poly\n",
    "# split the poly set into train and test\n",
    "# fit on training data\n",
    "# save RMSE for training and test set\n",
    "\n",
    "# Plot the results (error vs polynomial ddegree order)"
   ]
  },
  {
   "cell_type": "code",
   "execution_count": 42,
   "id": "db9a9bce",
   "metadata": {},
   "outputs": [],
   "source": [
    "train_rmse_errors = []\n",
    "test_rmse_errors = []\n",
    "\n",
    "# kind of overkill for what we are doing.\n",
    "for degree in range(1, 10):\n",
    "    # Create feature converter.\n",
    "    polyconverter = PolynomialFeatures(\n",
    "        degree=degree, \n",
    "        include_bias=False\n",
    "    )\n",
    "    # Fit and transform the data.\n",
    "    polyfeatures = polyconverter.fit_transform(X)\n",
    "    X_train, X_test, y_train, y_test = train_test_split(\n",
    "        polyfeatures,\n",
    "        y,\n",
    "        # Same params as other tests!\n",
    "        test_size=0.3,\n",
    "        random_state=42\n",
    "    )\n",
    "    \n",
    "    model = LinearRegression()\n",
    "    model.fit(X_train, y_train)\n",
    "    \n",
    "    trainpreds = model.predict(X_train)\n",
    "    testpreds = model.predict(X_test)\n",
    "    \n",
    "    train_rmse = np.sqrt(mean_squared_error(y_train, trainpreds))\n",
    "    test_rmse = np.sqrt(mean_squared_error(y_test, testpreds))\n",
    "    \n",
    "    train_rmse_errors.append(train_rmse)\n",
    "    test_rmse_errors.append(test_rmse)\n",
    "    \n",
    "    "
   ]
  },
  {
   "cell_type": "code",
   "execution_count": 43,
   "id": "bb23a53b",
   "metadata": {},
   "outputs": [
    {
     "data": {
      "text/plain": [
       "[1.574596830590544,\n",
       " 0.5950712355838925,\n",
       " 0.46887581118220883,\n",
       " 0.3694689701771811,\n",
       " 0.2438220731868701,\n",
       " 0.20151320121803631,\n",
       " 0.6233792218764097,\n",
       " 0.1554634694131466,\n",
       " 0.15882613620707328]"
      ]
     },
     "execution_count": 43,
     "metadata": {},
     "output_type": "execute_result"
    }
   ],
   "source": [
    "train_rmse_errors"
   ]
  },
  {
   "cell_type": "code",
   "execution_count": 44,
   "id": "387311fa",
   "metadata": {},
   "outputs": [
    {
     "data": {
      "text/plain": [
       "[1.948537204344639,\n",
       " 0.7233218473857478,\n",
       " 0.5392350985681801,\n",
       " 1.3032265963157175,\n",
       " 5.946842935307123,\n",
       " 26.38476839993306,\n",
       " 599.3363123493482,\n",
       " 2483.1346359034037,\n",
       " 141973.33000831315]"
      ]
     },
     "execution_count": 44,
     "metadata": {},
     "output_type": "execute_result"
    }
   ],
   "source": [
    "test_rmse_errors"
   ]
  },
  {
   "cell_type": "code",
   "execution_count": 49,
   "id": "1c09a9fa",
   "metadata": {},
   "outputs": [
    {
     "data": {
      "text/plain": [
       "<matplotlib.legend.Legend at 0x1b0012311f0>"
      ]
     },
     "execution_count": 49,
     "metadata": {},
     "output_type": "execute_result"
    },
    {
     "data": {
      "image/png": "[encoded data removed]",
      "text/plain": [
       "<Figure size 432x288 with 1 Axes>"
      ]
     },
     "metadata": {
      "needs_background": "light"
     },
     "output_type": "display_data"
    }
   ],
   "source": [
    "plt.plot(range(1, 6), train_rmse_errors[:5], label='train rmse')\n",
    "plt.plot(range(1, 6), test_rmse_errors[:5], label='test rmse')\n",
    "\n",
    "plt.xlabel('degree of poly')\n",
    "plt.ylabel('RMSE')\n",
    "plt.legend()\n",
    "\n",
    "# In this case we would choose a degree of 2 or 3 as we don't want to risk entering the danger zone."
   ]
  },
  {
   "cell_type": "code",
   "execution_count": 50,
   "id": "2fd29840",
   "metadata": {},
   "outputs": [
    {
     "data": {
      "text/plain": [
       "<matplotlib.legend.Legend at 0x1b00132b6d0>"
      ]
     },
     "execution_count": 50,
     "metadata": {},
     "output_type": "execute_result"
    },
    {
     "data": {
      "image/png": "[encoded data removed]",
      "text/plain": [
       "<Figure size 432x288 with 1 Axes>"
      ]
     },
     "metadata": {
      "needs_background": "light"
     },
     "output_type": "display_data"
    }
   ],
   "source": [
    "plt.plot(range(1, 10), train_rmse_errors, label='train rmse')\n",
    "plt.plot(range(1, 10), test_rmse_errors, label='test rmse')\n",
    "\n",
    "plt.xlabel('degree of poly')\n",
    "plt.ylabel('RMSE')\n",
    "plt.legend()"
   ]
  },
  {
   "cell_type": "markdown",
   "id": "70d6f4eb",
   "metadata": {},
   "source": [
    "# Polynomial Model Regression Deployment"
   ]
  },
  {
   "cell_type": "code",
   "execution_count": 51,
   "id": "f53ff768",
   "metadata": {},
   "outputs": [],
   "source": [
    "final_poly_converter = PolynomialFeatures(degree=3, include_bias=False)"
   ]
  },
  {
   "cell_type": "code",
   "execution_count": 52,
   "id": "03a12652",
   "metadata": {},
   "outputs": [],
   "source": [
    "final_model = LinearRegression()"
   ]
  },
  {
   "cell_type": "code",
   "execution_count": 53,
   "id": "8b5b953c",
   "metadata": {},
   "outputs": [
    {
     "data": {
      "text/plain": [
       "LinearRegression()"
      ]
     },
     "execution_count": 53,
     "metadata": {},
     "output_type": "execute_result"
    }
   ],
   "source": [
    "#  Get converted data to polynomials.\n",
    "full_converted_x = final_poly_converter.fit_transform(X) # Assuming we were satisfied with RMSE of test set.\n",
    "\n",
    "# Fit model\n",
    "final_model.fit(full_converted_x, y)"
   ]
  },
  {
   "cell_type": "code",
   "execution_count": 54,
   "id": "7ca1a1aa",
   "metadata": {},
   "outputs": [],
   "source": [
    "# Save both (poly converter + model)\n",
    "from joblib import dump, load"
   ]
  },
  {
   "cell_type": "code",
   "execution_count": 55,
   "id": "975a86f3",
   "metadata": {},
   "outputs": [
    {
     "data": {
      "text/plain": [
       "['final_poly_converter.joblib']"
      ]
     },
     "execution_count": 55,
     "metadata": {},
     "output_type": "execute_result"
    }
   ],
   "source": [
    "dump(final_model, 'final_poly_model.joblib')\n",
    "dump(final_poly_converter, 'final_poly_converter.joblib')"
   ]
  },
  {
   "cell_type": "code",
   "execution_count": 56,
   "id": "5dbbf32f",
   "metadata": {},
   "outputs": [],
   "source": [
    "# Load em up!!\n",
    "loaded_converter = load('final_poly_converter.joblib')\n",
    "loaded_model = load('final_poly_model.joblib')"
   ]
  },
  {
   "cell_type": "code",
   "execution_count": 59,
   "id": "d92e9911",
   "metadata": {},
   "outputs": [],
   "source": [
    "# It's too easy!\n",
    "newcampaign = [[149, 22, 12]]\n",
    "\n",
    "# Convert to 9 features (or however poly provides)\n",
    "transformed_x_data = loaded_converter.fit_transform(newcampaign)"
   ]
  },
  {
   "cell_type": "code",
   "execution_count": 60,
   "id": "44ae97b3",
   "metadata": {},
   "outputs": [
    {
     "data": {
      "text/plain": [
       "array([14.64501014])"
      ]
     },
     "execution_count": 60,
     "metadata": {},
     "output_type": "execute_result"
    }
   ],
   "source": [
    "loaded_model.predict(transformed_x_data) # Booh yah!"
   ]
  },
  {
   "cell_type": "code",
   "execution_count": null,
   "id": "34b848a6",
   "metadata": {},
   "outputs": [],
   "source": []
  }
 ],
 "metadata": {
  "kernelspec": {
   "display_name": "Python 3",
   "language": "python",
   "name": "python3"
  },
  "language_info": {
   "codemirror_mode": {
    "name": "ipython",
    "version": 3
   },
   "file_extension": ".py",
   "mimetype": "text/x-python",
   "name": "python",
   "nbconvert_exporter": "python",
   "pygments_lexer": "ipython3",
   "version": "3.8.8"
  }
 },
 "nbformat": 4,
 "nbformat_minor": 5
}
