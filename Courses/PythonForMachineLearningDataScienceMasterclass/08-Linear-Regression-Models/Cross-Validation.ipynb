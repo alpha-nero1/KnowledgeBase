{
 "cells": [
  {
   "cell_type": "markdown",
   "id": "6e0e12b5",
   "metadata": {},
   "source": [
    "# Cross-Validation\n",
    "\n",
    "More advanced set of methods of splitting data into training and test sets.\n",
    "\n",
    "Can we train on all the data and evaluate on all the data?\n",
    "\n",
    "We test all portions of our data! We have to repeat compuitations K number of times.\n",
    "\n",
    "Also known as K-fold cross-validation (typically K = 10)\n",
    "You average the errors across all the tests done."
   ]
  }
 ],
 "metadata": {
  "kernelspec": {
   "display_name": "Python 3",
   "language": "python",
   "name": "python3"
  },
  "language_info": {
   "codemirror_mode": {
    "name": "ipython",
    "version": 3
   },
   "file_extension": ".py",
   "mimetype": "text/x-python",
   "name": "python",
   "nbconvert_exporter": "python",
   "pygments_lexer": "ipython3",
   "version": "3.8.8"
  }
 },
 "nbformat": 4,
 "nbformat_minor": 5
}
