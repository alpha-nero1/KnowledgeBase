{
 "cells": [
  {
   "cell_type": "markdown",
   "id": "85e061f4",
   "metadata": {},
   "source": [
    "# Regularisation\n",
    "\n",
    "In general we can think of regularisation as a wway to reduce model overfitting and variance.\n",
    "- Requires additional bias and a search for optimal penalty hyperparamater (or just paramater!)\n",
    "\n",
    "3 Main types\n",
    "\n",
    "## L1 Regularisation (LASSO)\n",
    "\n",
    "- adds a penalty equal to the absolute value of the magnitude of coefficients.\n",
    "\n",
    "## L2 Regularisation (Ridge)\n",
    "\n",
    "- adds a penalty term equal to the square of the magnitude of the coefficients.\n",
    "\n",
    "## L1 + L2 (Elastic Net)\n",
    "\n",
    "- adds both but also an alpha term defining the ratio between the two."
   ]
  },
  {
   "cell_type": "code",
   "execution_count": null,
   "id": "a12dbbf6",
   "metadata": {},
   "outputs": [],
   "source": []
  }
 ],
 "metadata": {
  "kernelspec": {
   "display_name": "Python 3",
   "language": "python",
   "name": "python3"
  },
  "language_info": {
   "codemirror_mode": {
    "name": "ipython",
    "version": 3
   },
   "file_extension": ".py",
   "mimetype": "text/x-python",
   "name": "python",
   "nbconvert_exporter": "python",
   "pygments_lexer": "ipython3",
   "version": "3.8.8"
  }
 },
 "nbformat": 4,
 "nbformat_minor": 5
}
