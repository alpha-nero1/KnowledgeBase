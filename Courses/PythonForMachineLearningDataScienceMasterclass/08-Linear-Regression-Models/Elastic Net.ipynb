{
 "cells": [
  {
   "cell_type": "markdown",
   "id": "08b0fa86",
   "metadata": {},
   "source": [
    "# Elastic Net\n",
    "\n",
    "L1 and L2 Regularisation\n",
    "\n",
    "- Elastic net seeks to improve on both L1 and L2 regularisation by combining them."
   ]
  },
  {
   "cell_type": "code",
   "execution_count": null,
   "id": "69c4477d",
   "metadata": {},
   "outputs": [],
   "source": []
  }
 ],
 "metadata": {
  "kernelspec": {
   "display_name": "Python 3",
   "language": "python",
   "name": "python3"
  },
  "language_info": {
   "codemirror_mode": {
    "name": "ipython",
    "version": 3
   },
   "file_extension": ".py",
   "mimetype": "text/x-python",
   "name": "python",
   "nbconvert_exporter": "python",
   "pygments_lexer": "ipython3",
   "version": "3.8.8"
  }
 },
 "nbformat": 4,
 "nbformat_minor": 5
}
