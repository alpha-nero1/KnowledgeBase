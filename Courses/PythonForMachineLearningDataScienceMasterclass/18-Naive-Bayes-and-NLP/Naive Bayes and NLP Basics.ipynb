{
 "cells": [
  {
   "cell_type": "markdown",
   "id": "a373ad0c",
   "metadata": {},
   "source": [
    "# Naive Bayes and NLP (Natural Language Processing)\n",
    "- text classification...\n",
    "- supervised learning with raw text.\n",
    "- bayes theorum is a probability formula that leverages previously known probabilities to define probability of related events occuring\n",
    "- Naive bayes: we model the prob of belonging to a class GIVEN a vector of features\n",
    "- supervised learing: we must have existing labels for historical data.\n",
    "- NB can treat each word OR letter as a feature to classify a record.\n",
    "\n",
    "## Feature Extraction from Text Data\n",
    "Most ML algorithms cannot take in raw text as data. We instead need to transform the text into features (numerical) that we can pass into the machine.\n",
    "We can use:\n",
    "- Count vectorisation: create vocab of all posible words across documents (texts) then we can count out how many times a word occurs in a document (most values would be 0). Creates a DTM (Document Term Matrix) maps frequency.\n",
    "    + must consider common words as they don't help.\n",
    "    + must consider common words between documents (not too important so can exclude)\n",
    "    + MOST NLP have common lists of \"Stop Words\" to not consider.\n",
    "    + inverse document frequency factor: decreases common word weightng and increases rare word weighting.\n",
    "    \n",
    "We need to create a \"Bag of words\" model."
   ]
  },
  {
   "cell_type": "code",
   "execution_count": 1,
   "id": "76d03ee6",
   "metadata": {},
   "outputs": [],
   "source": [
    "import pandas as pd\n",
    "import numpy as np\n",
    "import matplotlib.pyplot as plt\n",
    "import seaborn as sns"
   ]
  },
  {
   "cell_type": "code",
   "execution_count": 11,
   "id": "cb6c9151",
   "metadata": {},
   "outputs": [],
   "source": [
    "with open('One.txt') as mytext:\n",
    "    a = mytext.read()\n",
    "    alines = mytext.readlines()\n",
    "    arr = a.lower().split()"
   ]
  },
  {
   "cell_type": "code",
   "execution_count": 9,
   "id": "918caff6",
   "metadata": {},
   "outputs": [
    {
     "data": {
      "text/plain": [
       "'This is a story about dogs\\nour canine pets\\nDogs are furry animals\\n'"
      ]
     },
     "execution_count": 9,
     "metadata": {},
     "output_type": "execute_result"
    }
   ],
   "source": [
    "a"
   ]
  },
  {
   "cell_type": "code",
   "execution_count": 4,
   "id": "fd7a8c69",
   "metadata": {},
   "outputs": [
    {
     "name": "stdout",
     "output_type": "stream",
     "text": [
      "This is a story about dogs\n",
      "our canine pets\n",
      "Dogs are furry animals\n",
      "\n"
     ]
    }
   ],
   "source": [
    "print(a)"
   ]
  },
  {
   "cell_type": "code",
   "execution_count": 12,
   "id": "afb82942",
   "metadata": {},
   "outputs": [
    {
     "data": {
      "text/plain": [
       "['this',\n",
       " 'is',\n",
       " 'a',\n",
       " 'story',\n",
       " 'about',\n",
       " 'dogs',\n",
       " 'our',\n",
       " 'canine',\n",
       " 'pets',\n",
       " 'dogs',\n",
       " 'are',\n",
       " 'furry',\n",
       " 'animals']"
      ]
     },
     "execution_count": 12,
     "metadata": {},
     "output_type": "execute_result"
    }
   ],
   "source": [
    "arr"
   ]
  },
  {
   "cell_type": "code",
   "execution_count": 13,
   "id": "4bc927bc",
   "metadata": {},
   "outputs": [],
   "source": [
    "with open('One.txt') as mytext:\n",
    "    words_one = mytext.read().lower().split()\n",
    "    uni_words_one = set(words_one)"
   ]
  },
  {
   "cell_type": "code",
   "execution_count": 14,
   "id": "e8383816",
   "metadata": {},
   "outputs": [
    {
     "data": {
      "text/plain": [
       "{'a',\n",
       " 'about',\n",
       " 'animals',\n",
       " 'are',\n",
       " 'canine',\n",
       " 'dogs',\n",
       " 'furry',\n",
       " 'is',\n",
       " 'our',\n",
       " 'pets',\n",
       " 'story',\n",
       " 'this'}"
      ]
     },
     "execution_count": 14,
     "metadata": {},
     "output_type": "execute_result"
    }
   ],
   "source": [
    "uni_words_one"
   ]
  },
  {
   "cell_type": "code",
   "execution_count": 17,
   "id": "103bdfb2",
   "metadata": {},
   "outputs": [],
   "source": [
    "with open('Two.txt') as mytext:\n",
    "    words_two = mytext.read().lower().split()\n",
    "    uni_words_two = set(words_two)"
   ]
  },
  {
   "cell_type": "code",
   "execution_count": 18,
   "id": "91c9c1a6",
   "metadata": {},
   "outputs": [
    {
     "data": {
      "text/plain": [
       "{'a',\n",
       " 'about',\n",
       " 'catching',\n",
       " 'fun',\n",
       " 'is',\n",
       " 'popular',\n",
       " 'sport',\n",
       " 'story',\n",
       " 'surfing',\n",
       " 'this',\n",
       " 'water',\n",
       " 'waves'}"
      ]
     },
     "execution_count": 18,
     "metadata": {},
     "output_type": "execute_result"
    }
   ],
   "source": [
    "uni_words_two"
   ]
  },
  {
   "cell_type": "code",
   "execution_count": 19,
   "id": "dd9d3833",
   "metadata": {},
   "outputs": [],
   "source": [
    "# Combine the two sets...\n",
    "all_uni_words = set()\n",
    "all_uni_words.update(uni_words_one)\n",
    "all_uni_words.update(uni_words_two)"
   ]
  },
  {
   "cell_type": "code",
   "execution_count": 20,
   "id": "c52137d4",
   "metadata": {},
   "outputs": [
    {
     "data": {
      "text/plain": [
       "{'a',\n",
       " 'about',\n",
       " 'animals',\n",
       " 'are',\n",
       " 'canine',\n",
       " 'catching',\n",
       " 'dogs',\n",
       " 'fun',\n",
       " 'furry',\n",
       " 'is',\n",
       " 'our',\n",
       " 'pets',\n",
       " 'popular',\n",
       " 'sport',\n",
       " 'story',\n",
       " 'surfing',\n",
       " 'this',\n",
       " 'water',\n",
       " 'waves'}"
      ]
     },
     "execution_count": 20,
     "metadata": {},
     "output_type": "execute_result"
    }
   ],
   "source": [
    "all_uni_words"
   ]
  },
  {
   "cell_type": "code",
   "execution_count": 21,
   "id": "08a1578e",
   "metadata": {},
   "outputs": [],
   "source": [
    "full_vocab = dict()"
   ]
  },
  {
   "cell_type": "code",
   "execution_count": 22,
   "id": "ca159e09",
   "metadata": {},
   "outputs": [],
   "source": [
    "i = 0"
   ]
  },
  {
   "cell_type": "code",
   "execution_count": 23,
   "id": "5a5a3610",
   "metadata": {},
   "outputs": [],
   "source": [
    "for word in all_uni_words:\n",
    "    full_vocab[word] = i\n",
    "    i = i + 1"
   ]
  },
  {
   "cell_type": "code",
   "execution_count": 24,
   "id": "aead2785",
   "metadata": {},
   "outputs": [
    {
     "data": {
      "text/plain": [
       "{'sport': 0,\n",
       " 'surfing': 1,\n",
       " 'catching': 2,\n",
       " 'story': 3,\n",
       " 'waves': 4,\n",
       " 'furry': 5,\n",
       " 'a': 6,\n",
       " 'about': 7,\n",
       " 'popular': 8,\n",
       " 'our': 9,\n",
       " 'dogs': 10,\n",
       " 'fun': 11,\n",
       " 'pets': 12,\n",
       " 'this': 13,\n",
       " 'canine': 14,\n",
       " 'are': 15,\n",
       " 'animals': 16,\n",
       " 'water': 17,\n",
       " 'is': 18}"
      ]
     },
     "execution_count": 24,
     "metadata": {},
     "output_type": "execute_result"
    }
   ],
   "source": [
    "full_vocab"
   ]
  },
  {
   "cell_type": "code",
   "execution_count": 25,
   "id": "12558c44",
   "metadata": {},
   "outputs": [],
   "source": [
    "one_freq = [0] * len(full_vocab)\n",
    "two_freq = [0] * len(full_vocab)\n",
    "all_words = ['']*len(full_vocab)"
   ]
  },
  {
   "cell_type": "code",
   "execution_count": 26,
   "id": "b4a663db",
   "metadata": {},
   "outputs": [
    {
     "data": {
      "text/plain": [
       "[0, 0, 0, 0, 0, 0, 0, 0, 0, 0, 0, 0, 0, 0, 0, 0, 0, 0, 0]"
      ]
     },
     "execution_count": 26,
     "metadata": {},
     "output_type": "execute_result"
    }
   ],
   "source": [
    "one_freq"
   ]
  },
  {
   "cell_type": "code",
   "execution_count": 27,
   "id": "aaa1bd51",
   "metadata": {},
   "outputs": [],
   "source": [
    "with open('One.txt') as f:\n",
    "    one_text = f.read().lower().split()"
   ]
  },
  {
   "cell_type": "code",
   "execution_count": 28,
   "id": "7af9fb75",
   "metadata": {},
   "outputs": [],
   "source": [
    "# Nice algo trick right there to count frequencies!\n",
    "for word in one_text:\n",
    "    word_ind = full_vocab[word]\n",
    "    one_freq[word_ind] += 1"
   ]
  },
  {
   "cell_type": "code",
   "execution_count": 29,
   "id": "fb2ade2f",
   "metadata": {},
   "outputs": [],
   "source": [
    "with open('Two.txt') as f:\n",
    "    two_text = f.read().lower().split()"
   ]
  },
  {
   "cell_type": "code",
   "execution_count": 30,
   "id": "16c78280",
   "metadata": {},
   "outputs": [],
   "source": [
    "# Nice algo trick right there to count frequencies!\n",
    "for word in two_text:\n",
    "    word_ind = full_vocab[word]\n",
    "    two_freq[word_ind] += 1"
   ]
  },
  {
   "cell_type": "code",
   "execution_count": 31,
   "id": "9531c3e0",
   "metadata": {},
   "outputs": [],
   "source": [
    "for word in full_vocab:\n",
    "    word_index = full_vocab[word]\n",
    "    all_words[word_index] = word"
   ]
  },
  {
   "cell_type": "code",
   "execution_count": 32,
   "id": "a55a4625",
   "metadata": {},
   "outputs": [
    {
     "data": {
      "text/plain": [
       "['sport',\n",
       " 'surfing',\n",
       " 'catching',\n",
       " 'story',\n",
       " 'waves',\n",
       " 'furry',\n",
       " 'a',\n",
       " 'about',\n",
       " 'popular',\n",
       " 'our',\n",
       " 'dogs',\n",
       " 'fun',\n",
       " 'pets',\n",
       " 'this',\n",
       " 'canine',\n",
       " 'are',\n",
       " 'animals',\n",
       " 'water',\n",
       " 'is']"
      ]
     },
     "execution_count": 32,
     "metadata": {},
     "output_type": "execute_result"
    }
   ],
   "source": [
    "all_words"
   ]
  },
  {
   "cell_type": "code",
   "execution_count": 36,
   "id": "19b55420",
   "metadata": {},
   "outputs": [],
   "source": [
    "# Bad of words...\n",
    "bow = pd.DataFrame(data=[one_freq, two_freq], columns=all_words)"
   ]
  },
  {
   "cell_type": "code",
   "execution_count": 37,
   "id": "c59d44a9",
   "metadata": {},
   "outputs": [
    {
     "data": {
      "text/html": [
       "<div>\n",
       "<style scoped>\n",
       "    .dataframe tbody tr th:only-of-type {\n",
       "        vertical-align: middle;\n",
       "    }\n",
       "\n",
       "    .dataframe tbody tr th {\n",
       "        vertical-align: top;\n",
       "    }\n",
       "\n",
       "    .dataframe thead th {\n",
       "        text-align: right;\n",
       "    }\n",
       "</style>\n",
       "<table border=\"1\" class=\"dataframe\">\n",
       "  <thead>\n",
       "    <tr style=\"text-align: right;\">\n",
       "      <th></th>\n",
       "      <th>sport</th>\n",
       "      <th>surfing</th>\n",
       "      <th>catching</th>\n",
       "      <th>story</th>\n",
       "      <th>waves</th>\n",
       "      <th>furry</th>\n",
       "      <th>a</th>\n",
       "      <th>about</th>\n",
       "      <th>popular</th>\n",
       "      <th>our</th>\n",
       "      <th>dogs</th>\n",
       "      <th>fun</th>\n",
       "      <th>pets</th>\n",
       "      <th>this</th>\n",
       "      <th>canine</th>\n",
       "      <th>are</th>\n",
       "      <th>animals</th>\n",
       "      <th>water</th>\n",
       "      <th>is</th>\n",
       "    </tr>\n",
       "  </thead>\n",
       "  <tbody>\n",
       "    <tr>\n",
       "      <th>0</th>\n",
       "      <td>0</td>\n",
       "      <td>0</td>\n",
       "      <td>0</td>\n",
       "      <td>1</td>\n",
       "      <td>0</td>\n",
       "      <td>1</td>\n",
       "      <td>1</td>\n",
       "      <td>1</td>\n",
       "      <td>0</td>\n",
       "      <td>1</td>\n",
       "      <td>2</td>\n",
       "      <td>0</td>\n",
       "      <td>1</td>\n",
       "      <td>1</td>\n",
       "      <td>1</td>\n",
       "      <td>1</td>\n",
       "      <td>1</td>\n",
       "      <td>0</td>\n",
       "      <td>1</td>\n",
       "    </tr>\n",
       "    <tr>\n",
       "      <th>1</th>\n",
       "      <td>1</td>\n",
       "      <td>2</td>\n",
       "      <td>1</td>\n",
       "      <td>1</td>\n",
       "      <td>1</td>\n",
       "      <td>0</td>\n",
       "      <td>1</td>\n",
       "      <td>1</td>\n",
       "      <td>1</td>\n",
       "      <td>0</td>\n",
       "      <td>0</td>\n",
       "      <td>1</td>\n",
       "      <td>0</td>\n",
       "      <td>1</td>\n",
       "      <td>0</td>\n",
       "      <td>0</td>\n",
       "      <td>0</td>\n",
       "      <td>1</td>\n",
       "      <td>3</td>\n",
       "    </tr>\n",
       "  </tbody>\n",
       "</table>\n",
       "</div>"
      ],
      "text/plain": [
       "   sport  surfing  catching  story  waves  furry  a  about  popular  our  \\\n",
       "0      0        0         0      1      0      1  1      1        0    1   \n",
       "1      1        2         1      1      1      0  1      1        1    0   \n",
       "\n",
       "   dogs  fun  pets  this  canine  are  animals  water  is  \n",
       "0     2    0     1     1       1    1        1      0   1  \n",
       "1     0    1     0     1       0    0        0      1   3  "
      ]
     },
     "execution_count": 37,
     "metadata": {},
     "output_type": "execute_result"
    }
   ],
   "source": [
    "bow"
   ]
  },
  {
   "cell_type": "markdown",
   "id": "fac9a2be",
   "metadata": {},
   "source": [
    "# Doing it with SciKitLearn"
   ]
  },
  {
   "cell_type": "code",
   "execution_count": 38,
   "id": "0d5a87bc",
   "metadata": {},
   "outputs": [],
   "source": [
    "text = ['This is a leggolas line', 'This is another big line', 'completely different line mate']"
   ]
  },
  {
   "cell_type": "code",
   "execution_count": 39,
   "id": "f975574b",
   "metadata": {},
   "outputs": [],
   "source": [
    "# Count vectoriser to do that work for us automatically...\n",
    "from sklearn.feature_extraction.text import CountVectorizer"
   ]
  },
  {
   "cell_type": "code",
   "execution_count": 48,
   "id": "672bf3ef",
   "metadata": {},
   "outputs": [],
   "source": [
    "cv = CountVectorizer(stop_words='english')\n",
    "# Get unique vocab on fit and do the freq counts on transform\n",
    "sparse_matrix = cv.fit_transform(text)"
   ]
  },
  {
   "cell_type": "code",
   "execution_count": 49,
   "id": "ff3779e1",
   "metadata": {},
   "outputs": [
    {
     "data": {
      "text/plain": [
       "CountVectorizer(stop_words='english')"
      ]
     },
     "execution_count": 49,
     "metadata": {},
     "output_type": "execute_result"
    }
   ],
   "source": [
    "cv"
   ]
  },
  {
   "cell_type": "code",
   "execution_count": 50,
   "id": "96ad438d",
   "metadata": {},
   "outputs": [
    {
     "data": {
      "text/plain": [
       "matrix([[0, 0, 0, 1, 1, 0],\n",
       "        [1, 0, 0, 0, 1, 0],\n",
       "        [0, 1, 1, 0, 1, 1]], dtype=int64)"
      ]
     },
     "execution_count": 50,
     "metadata": {},
     "output_type": "execute_result"
    }
   ],
   "source": [
    "sparse_matrix.todense()"
   ]
  },
  {
   "cell_type": "code",
   "execution_count": 51,
   "id": "2b760b59",
   "metadata": {},
   "outputs": [
    {
     "data": {
      "text/plain": [
       "{'leggolas': 3,\n",
       " 'line': 4,\n",
       " 'big': 0,\n",
       " 'completely': 1,\n",
       " 'different': 2,\n",
       " 'mate': 5}"
      ]
     },
     "execution_count": 51,
     "metadata": {},
     "output_type": "execute_result"
    }
   ],
   "source": [
    "cv.vocabulary_"
   ]
  },
  {
   "cell_type": "code",
   "execution_count": 55,
   "id": "1a1604d2",
   "metadata": {},
   "outputs": [],
   "source": [
    "from sklearn.feature_extraction.text import TfidfTransformer\n",
    "# TD-IDF = term frequency - inverse document frequency"
   ]
  },
  {
   "cell_type": "code",
   "execution_count": 56,
   "id": "51012609",
   "metadata": {},
   "outputs": [],
   "source": [
    "tfidf = TfidfTransformer()"
   ]
  },
  {
   "cell_type": "code",
   "execution_count": 58,
   "id": "8b5504b5",
   "metadata": {},
   "outputs": [],
   "source": [
    "results = tfidf.fit_transform(sparse_matrix) # Pass in a bag of words!"
   ]
  },
  {
   "cell_type": "code",
   "execution_count": 61,
   "id": "683f9cfc",
   "metadata": {},
   "outputs": [
    {
     "data": {
      "text/plain": [
       "matrix([[0.        , 0.        , 0.        , 0.861037  , 0.50854232,\n",
       "         0.        ],\n",
       "        [0.861037  , 0.        , 0.        , 0.        , 0.50854232,\n",
       "         0.        ],\n",
       "        [0.        , 0.54645401, 0.54645401, 0.        , 0.32274454,\n",
       "         0.54645401]])"
      ]
     },
     "execution_count": 61,
     "metadata": {},
     "output_type": "execute_result"
    }
   ],
   "source": [
    "results.todense() # Don't call on big data sets"
   ]
  },
  {
   "cell_type": "code",
   "execution_count": 62,
   "id": "3b5758c5",
   "metadata": {},
   "outputs": [],
   "source": [
    "from sklearn.feature_extraction.text import TfidfVectorizer # Does work of the two previous things..."
   ]
  },
  {
   "cell_type": "code",
   "execution_count": 63,
   "id": "b6c5ec73",
   "metadata": {},
   "outputs": [],
   "source": [
    "tv = TfidfVectorizer()"
   ]
  },
  {
   "cell_type": "code",
   "execution_count": 64,
   "id": "db118058",
   "metadata": {},
   "outputs": [],
   "source": [
    "tv_results = tv.fit_transform(text)"
   ]
  },
  {
   "cell_type": "code",
   "execution_count": 65,
   "id": "2e09531d",
   "metadata": {},
   "outputs": [
    {
     "data": {
      "text/plain": [
       "matrix([[0.        , 0.        , 0.        , 0.        , 0.4804584 ,\n",
       "         0.63174505, 0.37311881, 0.        , 0.4804584 ],\n",
       "        [0.53409337, 0.53409337, 0.        , 0.        , 0.40619178,\n",
       "         0.        , 0.31544415, 0.        , 0.40619178],\n",
       "        [0.        , 0.        , 0.54645401, 0.54645401, 0.        ,\n",
       "         0.        , 0.32274454, 0.54645401, 0.        ]])"
      ]
     },
     "execution_count": 65,
     "metadata": {},
     "output_type": "execute_result"
    }
   ],
   "source": [
    "tv_results.todense()"
   ]
  },
  {
   "cell_type": "code",
   "execution_count": null,
   "id": "2e33c071",
   "metadata": {},
   "outputs": [],
   "source": []
  }
 ],
 "metadata": {
  "kernelspec": {
   "display_name": "Python 3",
   "language": "python",
   "name": "python3"
  },
  "language_info": {
   "codemirror_mode": {
    "name": "ipython",
    "version": 3
   },
   "file_extension": ".py",
   "mimetype": "text/x-python",
   "name": "python",
   "nbconvert_exporter": "python",
   "pygments_lexer": "ipython3",
   "version": "3.8.8"
  }
 },
 "nbformat": 4,
 "nbformat_minor": 5
}
